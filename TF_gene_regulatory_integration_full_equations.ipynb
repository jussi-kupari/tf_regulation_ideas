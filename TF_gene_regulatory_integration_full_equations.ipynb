{
 "cells": [
  {
   "cell_type": "markdown",
   "metadata": {},
   "source": "\n# Cross-Modal TF→Gene Regulatory Inference & Cross-Species Comparison\n\n*A practical summary for integrating RNA-based GRN inference (GENIE3/GRNBoost2) with scATAC motif evidence, peak–gene linking, and extending to human–mouse comparisons.*\n\n**Author:** (auto-generated for Jussi Kupari)  \n**Date:** 2025-10-15\n\n---\n\n## Table of Contents\n1. [Problem Framing](#problem-framing)\n2. [Linking Peaks to Genes: TSS Windows vs Co‑accessibility](#linking-peaks-to-genes)\n3. [Core Integration Concept (RNA GRN + ATAC Motifs)](#core-integration-concept)\n4. [Scoring: Motif Evidence Score (MES) and Combined Regulatory Confidence (CRC)](#scoring)\n5. [Python-Oriented Implementation Plan](#implementation-plan)\n6. [Data Alignment Across Datasets](#alignment)\n7. [Cross-Species (Human–Mouse) Comparison](#cross-species)\n8. [Motif-Level Comparisons](#motif-level)\n9. [Hypothesizing Mechanisms for Species-Biased Expression](#mechanism)\n10. [Diagnostics, Visualizations, and Deliverables](#viz)\n11. [Practical Tips & Gotchas](#tips)\n12. [Next Steps & Options](#next-steps)\n\n---\n\n## 1) Problem Framing <a name=\"problem-framing\"></a>\nWe want to identify **Transcription Factors (TFs)** that regulate **specific genes**, by integrating:\n- **RNA-based GRN inference** (e.g., **GENIE3/GRNBoost2**) → TF→gene edges with weights (correlation/importance).\n- **scATAC-seq evidence** → TF **motif presence** and **accessibility** in peaks **linked to genes**.\n\nGoal: For a predicted TF→gene edge, ask *“Is the TF’s motif found in accessible regulatory peaks linked to that gene (promoter or distal) in the relevant cell type?”* Then combine the evidence into a ranked regulatory network.\n\n---\n\n## 2) Linking Peaks to Genes: TSS Windows vs Co‑accessibility <a name=\"linking-peaks-to-genes\"></a>\nTwo common strategies:\n\n**A. Fixed windows around TSS (e.g., ±10 kb; promoter-biased)**\n- *Pros:* Simple, fast, good for promoter-driven regulation.\n- *Cons:* Misses **distal enhancers**; equates linear proximity with regulation; blind to 3D chromatin.\n\n**B. Co-accessibility / correlation-based linking (Cicero, Signac `LinkPeaks`, ArchR)**\n- *Pros:* Captures **distal enhancer–promoter** interactions via cell-to-cell co-variation; more realistic for complex regulation.\n- *Cons:* Heavier compute; requires sufficient cell numbers; can reflect compositional confounders.\n\n**Recommendation for TF–gene validation:** Prefer **co‑accessibility-based links** (B) for distal coverage; optionally include promoter windows as baseline.\n\n---\n\n## 3) Core Integration Concept (RNA GRN + ATAC Motifs) <a name=\"core-integration-concept\"></a>\n1. From RNA (GENIE3/GRNBoost2): ranked **TF→gene** edges with weights.\n2. From ATAC: **peaks linked to genes** + **motif annotations** (TF motif present?), with **accessibility** and optional **co‑accessibility** weights.\n3. For each edge (TF, gene, cell type): aggregate motif evidence across the gene’s linked peaks → produce a **Motif Evidence Score (MES)**.\n4. Combine **GENIE3/GRN** weight and **MES** into a **Combined Regulatory Confidence (CRC)**.\n\n---\n\n## 4) Scoring: Motif Evidence Score (MES) and Combined Regulatory Confidence (CRC) <a name=\"scoring\"></a>\nLet \\(P(g)\\) be the set of peaks linked to gene \\(g\\). For TF \\(t\\) and cell type \\(c\\):\n\n**Motif Evidence Score (MES)**\n\n\\[\n\\mathrm{MES}_{t,g,c} \n= \\sum_{p \\in P(g)} \\underbrace{\\mathbf{1}[\\text{motif}(t) \\in p]}_{\\text{motif presence}} \n\\times \\underbrace{A_{p,c}}_{\\text{accessibility weight}} \n\\times \\underbrace{L_{p,g}}_{\\text{link/co-accessibility score}} \n\\times \\underbrace{M_{t,p}}_{\\text{(optional) motif strength}}\n\\]\n\n**Combined Regulatory Confidence (CRC)**\n\nNormalize within cell type (z-scores) and combine:\n\n\\[\n\\mathrm{CRC}_{t,g,c} = z\\big(\\mathrm{GENIE3\\ weight}_{t,g}\\big) \\times z\\big(1 + \\mathrm{MES}_{t,g,c}\\big)\n\\]\n\n- Product emphasizes edges supported by **both** RNA and ATAC layers.\n- Variants: weighted sums, inclusion of **TF activity** (chromVAR deviations) as a multiplicative factor.\n\n---\n\n## 5) Python-Oriented Implementation Plan <a name=\"implementation-plan\"></a>\n**Inputs**\n- **scRNA:** expression matrix; TF list; cell-type labels; (optional) pseudobulk per cell type.\n- **scATAC:** peak×cell matrix; peak metadata; **peak→gene links** (Cicero/Signac/ArchR or distance-based backup); **motif hits** per peak (pycistarget/gimmemotifs/MOODS); (optional) chromVAR deviations.\n\n**Workflow**\n1. **GRN inference (RNA):** run `arboreto` (**GRNBoost2**/**GENIE3**) to get TF→gene edges with importance.\n2. **Peak→gene linking (ATAC):** import Cicero/Signac links; if absent, use TSS windows with distance-decay.\n3. **Motif annotation:** annotate peaks with TF motifs (prefer **pycistarget** with cisTarget DBs; or scan sequences).\n4. **Pseudobulk accessibility:** sum per cell type and normalize (CPM) for stability across datasets.\n5. **Compute MES per edge per cell type:** aggregate motif+accessibility+link evidence across linked peaks.\n6. **Compute CRC:** combine z-scored GENIE3 weight and MES (and optionally TF activity).\n7. **Filter & rank:** retain edges with consistent TF/gene expression & accessible peaks in the cell type.\n8. **Export:** ranked edges, plus per-edge diagnostics.\n\n**Notes for your stack**\n- You prefer **Python tools** (arboreto/GRNBoost2 + **pycistarget**). Rcistopic topic regions can seed motif analyses.\n- You can skip re-running arboreto if you already have **GENIE3** edges from a prior SCENIC run—just load and proceed to MES/CRC.\n\n---\n\n## 6) Data Alignment Across Datasets <a name=\"alignment\"></a>\nBecause RNA and ATAC come from **different experiments**, align at the **cell-type level**:\n- Harmonize labels (ontology mapping, marker-based matching, or label transfer).\n- Create **pseudobulk RNA** and **pseudobulk ATAC** per cell type.\n- Restrict inference to cell types where **TF** and **target gene** are expressed and the **linked peaks are accessible**.\n\n---\n\n## 7) Cross-Species (Human–Mouse) Comparison <a name=\"cross-species\"></a>\nTo compare TF regulation for orthologous genes between human and mouse:\n1. **Orthology mapping:** map genes and TFs to 1:1 orthologs (e.g., Ensembl BioMart / HomoloGene).\n2. **Cell-type alignment:** ensure comparable cell-type labels; if not exact, use coarser ontology.\n3. **Run pipeline per species:** compute **CRC** for each TF→gene per cell type.\n4. **Compare per gene-of-interest:**\n   - Top TFs (ranked by CRC) across species.\n   - Overlap metrics (e.g., Jaccard of top-N TFs), rank correlation (Spearman).\n   - Presence/absence of **motif evidence** in linked peaks in each species.\n5. **Optional positional conservation:** liftOver peaks to check syntenic motif conservation (nice-to-have, not required for functional comparison).\n\n---\n\n## 8) Motif-Level Comparisons <a name=\"motif-level\"></a>\n- Motifs are represented as **PWMs** from databases like **JASPAR/CIS‑BP/HOCOMOCO**. They capture a TF’s sequence preference.\n- **Direct sequence match ≠ binding**: chromatin context and cofactors matter; treat motif hits as necessary but not sufficient evidence.\n- For cross-species work, operate at the level of **motif families/TF families** (e.g., MEF2, ETS) to avoid over-penalizing small PWM differences.\n- Practical motif conservation metric for a gene:\n\n\\[\n\\mathrm{Motif\\ Conservation}(g) = \\frac{|\\mathcal{F}_\\text{human}(g) \\cap \\mathcal{F}_\\text{mouse}(g)|}{|\\mathcal{F}_\\text{human}(g) \\cup \\mathcal{F}_\\text{mouse}(g)|}\n\\]\n\nwhere \\(\\mathcal{F}(g)\\) is the set of TF families with motif hits in peaks linked to gene \\(g\\).\n\n---\n\n## 9) Hypothesizing Mechanisms for Species‑Biased Expression <a name=\"mechanism\"></a>\nWhen a gene is **broader** in one species than the other:\n1. **CRC deltas:** identify TFs with high CRC in the broad species and low in the restricted species.\n2. **Motif presence deltas:** check whether those TF motifs exist in gene-linked peaks in the broad species but are absent/weak in the other → **enhancer gain/loss** hypothesis.\n3. **Accessibility deltas:** inspect whether the relevant peaks are accessible across more cell types in the broad species → **cis** changes.\n4. **TF activity deltas:** if motifs/accessibility are similar but TF activity (chromVAR) differs → **trans** changes.\n5. **Synthesize:** propose candidate mechanisms (e.g., “gain of distal MEF2 sites drives broader expression in species A”).\n\n**A simple hypothesis score per TF:**\n\n\\[\n\\mathrm{HypothesisScore}_{t,g} = \\Delta \\mathrm{CRC} + w_1\\, \\Delta \\mathrm{MotifPresence} + w_2\\, \\Delta \\mathrm{Accessibility}\n\\]\n\nwith weights \\(w_1, w_2\\) chosen for balance.\n\n---\n\n## 10) Diagnostics, Visualizations, and Deliverables <a name=\"viz\"></a>\n**Per gene:**\n- Side-by-side **bar plots** of top TF CRCs (human vs mouse, per aligned cell type).\n- **Genome-style track**: linked peaks, motif hits, accessibility (per cell type), and co-accessibility arcs.\n- **Heatmaps**: peak accessibility across cell types; motif family presence across species.\n\n**Per TF:**\n- Top targets by CRC per species/cell type; GO/pathway enrichment of shared vs species-specific targets.\n\n**Deliverables:**\n- `crc_ranked_edges.tsv`: `TF, gene, cell_type, CRC, GENIE3_weight, MES`.\n- Edge annotations: counts of motif+linked peaks; promoter vs distal breakdown; optional TF activity deviations.\n- Cross-species summary tables (rank correlations, Jaccard overlaps).\n- Notebook(s) with plotting utilities.\n\n---\n\n## 11) Practical Tips & Gotchas <a name=\"tips\"></a>\n- **Cell-type alignment** is crucial; consider coarsening labels to ensure comparability.\n- **Motif redundancy**: many TFs share motifs; map to **TF families** and retain multiple candidate TFs unless expression/activity disambiguates.\n- **Peak→gene links**: Prefer Cicero/Signac/ArchR; if using TSS windows, apply **distance-decay** and require promoter support for “direct” edges.\n- **Pseudobulk** stabilizes signals across experiments/datasets.\n- **Multiple testing**: if thresholding motif hits/enrichments, control FDR at motif or edge level.\n- **Replicates**: if available, meta-analyze CRC/MES across replicates to avoid overfitting.\n\n---\n\n## 12) Next Steps & Options <a name=\"next-steps\"></a>\n- Build a **notebook scaffold** that:\n  1) ingests your GENIE3 edges and Rcistopic/Signac outputs,  \n  2) computes MES & CRC per cell type,  \n  3) performs cross-species ortholog mapping,  \n  4) outputs ranked edges + diagnostic plots.\n- Add **chromVAR TF activity** to boost specificity and help disambiguate motif families.\n- Implement **liftOver**-assisted motif conservation as an optional confidence layer.\n\n---\n\n### Minimal Pseudocode Snippets\n\n**MES aggregation**\n"
  },
  {
   "cell_type": "code",
   "metadata": {
    "language": "python"
   },
   "execution_count": null,
   "outputs": [],
   "source": "MES[t,g,c] = sum_over_linked_peaks(\n    motif_present(t, p) * accessibility[p,c] * link_score[p,g] * motif_strength(t,p)\n)\n"
  },
  {
   "cell_type": "code",
   "metadata": {
    "language": "\n**CRC combination**\n"
   },
   "execution_count": null,
   "outputs": [],
   "source": "python\n"
  },
  {
   "cell_type": "markdown",
   "metadata": {},
   "source": "CRC[t,g,c] = z(GENIE3_weight[t,g]) * z(1 + MES[t,g,c])  # optionally * z(TF_activity[t,c])\n"
  },
  {
   "cell_type": "code",
   "metadata": {
    "language": "python"
   },
   "execution_count": null,
   "outputs": [],
   "source": "\n**Cross-species overlap**\n"
  },
  {
   "cell_type": "markdown",
   "metadata": {},
   "source": "python"
  },
  {
   "cell_type": "code",
   "metadata": {
    "language": "overlap = jaccard(top_TFs_speciesA(g,c), top_TFs_speciesB(g,c))\nrank_r  = spearmanr(rank_speciesA(g,c), rank_speciesB(g,c))\n"
   },
   "execution_count": null,
   "outputs": [],
   "source": "\n"
  },
  {
   "cell_type": "markdown",
   "metadata": {},
   "source": "\n---\n\n### Personalization Notes\n- Tailored to **Python-first** tooling (arboreto/GRNBoost2 + **pycistarget**), consistent with your preference.\n- Compatible with **Rcistopic** outputs (use topics/regions for motif enrichment and to guide linked-peak sets).\n\n---\n\n*End of document.*\n"
  }
 ],
 "metadata": {
  "kernelspec": {
   "display_name": "Python 3",
   "language": "python",
   "name": "python3"
  },
  "language_info": {
   "name": "python",
   "version": "3.x"
  }
 },
 "nbformat": 4,
 "nbformat_minor": 5
}